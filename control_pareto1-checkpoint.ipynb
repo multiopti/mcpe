{
 "cells": [
  {
   "cell_type": "markdown",
   "metadata": {},
   "source": [
    "<p>Consideremos el siguiente esquema de control</p>\n",
    "<p>&nbsp;<img style=\"display: block; margin-left: auto; margin-right: auto;\" src=\"https://canvas.instructure.com/courses/1149679/files/51918467/preview\" alt=\"text3281-3-5.png\" data-api-endpoint=\"https://canvas.instructure.com/api/v1/courses/1149679/files/51918467\" data-api-returntype=\"File\" /></p>\n",
    "\n",
    "<p>Inicialmente, suponemos que se dispone de un modelo exacto de la planta, descrito por las Ecuaciones de Estado</p>\n",
    "\n",
    "$$\n",
    "\\begin{aligned}\n",
    "x(k+1) & = Ax(k)+Bu(k) \\\\\n",
    "y(k)& = Cx(k)\n",
    "\\end{aligned}\n",
    "$$\n",
    "\n",
    "<p>o de manera equivalente, por la funci&oacute;n de transferencia</p>\n",
    "\n",
    "$$\n",
    "\\begin{aligned}\n",
    "G\\left(z\\right)=\\frac{Y\\left(z\\right)}{U\\left(z\\right)}\n",
    "\\end{aligned}\n",
    "$$\n",
    "\n",
    "<p>Suponga adem&aacute;s que el sistema se encuentra funcionando a lazo cerrado, con el controlador descrito por</p>\n",
    "\n",
    "$$\n",
    "\\begin{aligned}\n",
    "G_C\\left(z\\right)=\\frac{U\\left(z\\right)}{E\\left(z\\right)} \\\\\n",
    "e\\left(k\\right)=r\\left(k\\right)-y\\left(k\\right)\n",
    "\\end{aligned}\n",
    "$$\n",
    "\n",
    "<p>Note que por el momento no consideramos perturbaciones externas en el lazo.</p>"
   ]
  },
  {
   "cell_type": "code",
   "execution_count": 28,
   "metadata": {},
   "outputs": [],
   "source": [
    "#Genera datos sistema de sistema a lazo cerrado\n",
    "#y grafica el Frente de Pareto Energia Error / Energia Control\n",
    "\n",
    "# Importar módulos necesarios\n",
    "import numpy as np\n",
    "import matplotlib.pyplot as plt\n",
    "%matplotlib inline\n",
    "import random\n",
    "\n",
    "from scipy import signal\n",
    "from control.matlab import *\n",
    "from control import *\n",
    "import scipy.linalg\n",
    "from numpy import linalg as LA"
   ]
  },
  {
   "cell_type": "code",
   "execution_count": 29,
   "metadata": {
    "collapsed": true
   },
   "outputs": [],
   "source": [
    "#Definición de la planta\n",
    "sys = tf([0.02], [1, 0.6 ,0.08,0])\n",
    "\n",
    "sysc = ss(sys)\n",
    "\n",
    "A = sysc.A\n",
    "B = -sysc.B\n",
    "\n",
    "C = -sysc.C\n",
    "\n",
    "D = sysc.D\n",
    "\n",
    "\n",
    "#Transformacion\n",
    "\n",
    "M = np.hstack((B,A*B,A*A*B))\n",
    "W = np.matrix([[0.08,0.6,1],[0.6,1,0],[1,0,0]])\n",
    "\n",
    "T = M*W\n",
    "Tinv = LA.inv(T) \n",
    "A = Tinv*A*T\n",
    "B = Tinv*B\n",
    "B[2] = 0.02\n",
    "C = C*T\n",
    "C[0] = 1 #ajuste para lograr que la salida sea idéntica al estado x1\n"
   ]
  },
  {
   "cell_type": "code",
   "execution_count": 30,
   "metadata": {
    "collapsed": true
   },
   "outputs": [],
   "source": [
    "#Cálculo de los controladores LQR de referencia\n",
    "Q0 = np.array([[1.0 , 0.0, 0.0],[0.0 , 1.0, 0.0],[0.0 , 0.0, 1.0]])\n",
    "\n",
    "R0 = 1.0\n",
    "\n",
    "NPar = 11\n",
    "ndim = 3\n",
    "Kmat = np.zeros((NPar-1,ndim))\n",
    "for k in range(1,NPar):\n",
    "    Q = ((k)/NPar)*Q0  # aqui alpha = k/NPar\n",
    "    R = R0 - ((k)/NPar)\n",
    "    #print(Q)\n",
    "    K, S, E = lqr(A, B, Q, R)\n",
    "    Kmat[k-1,:] = K "
   ]
  },
  {
   "cell_type": "code",
   "execution_count": 31,
   "metadata": {
    "collapsed": true
   },
   "outputs": [],
   "source": [
    "#Coeficientes del modelo en tiempo discreto\n",
    "final_p = 3000\n",
    "sampling_t = 1\n",
    "\n",
    "A1 = 0.0082\n",
    "A2 = 0.0067\n",
    "\n",
    "B1 = 1.489\n",
    "B2 = -0.5488\n"
   ]
  },
  {
   "cell_type": "code",
   "execution_count": 32,
   "metadata": {
    "scrolled": true
   },
   "outputs": [
    {
     "data": {
      "text/plain": [
       "[<matplotlib.lines.Line2D at 0x2939db0>]"
      ]
     },
     "execution_count": 32,
     "metadata": {},
     "output_type": "execute_result"
    },
    {
     "data": {
      "image/png": "[encoded data removed]",
      "text/plain": [
       "<matplotlib.figure.Figure at 0x28e7030>"
      ]
     },
     "metadata": {},
     "output_type": "display_data"
    }
   ],
   "source": [
    "#Señales\n",
    "t = np.arange(0.0, final_p, sampling_t)\n",
    "\n",
    "Ft = len(t)\n",
    "u = np.zeros(Ft)\n",
    "e = np.zeros(Ft)\n",
    "r = signal.square(2 * np.pi * 0.002 * t) #señal de referencia\n",
    "plt.plot(t,r)"
   ]
  },
  {
   "cell_type": "markdown",
   "metadata": {},
   "source": [
    "Como Frente de Pareto de referencia, proponemos el conjunto de índices que se obtienen al simular la respuesta de la planta a lazo cerrado, utilizando las soluciones no dominadas del problema LQR\n",
    "$$\n",
    "\\underset{K}{min}\\sum\\limits_{k=1}^{\\infty }\\left[ x^{T}(k)Qx(k)+u^{T}(k)Ru(k)\\right] \n",
    "$$\n",
    "sujeto a:\n",
    "$$\n",
    "\\begin{aligned}\n",
    "x(k+1) & = Ax(k)+Bu(k) \\\\\n",
    "y(k)& = Cx(k)\\\\\n",
    "u(k)& = - Kx(k)\\\\\n",
    "Q,R &> 0\n",
    "\\end{aligned}\n",
    "$$\n",
    "\n",
    "Se propone una parametrización de R y Q de la forma\n",
    "$$\n",
    "\\begin{aligned}\n",
    "Q & = \\alpha I \\\\\n",
    "R & = (1-\\alpha) \\\\\n",
    "\\alpha & \\in \\left( 0,1\\right)\n",
    "\\end{aligned}\n",
    "$$\n"
   ]
  },
  {
   "cell_type": "code",
   "execution_count": 33,
   "metadata": {
    "collapsed": true
   },
   "outputs": [],
   "source": [
    "#Cálculo del Frente de Pareto\n",
    "Par = np.zeros((NPar-1,2))\n",
    "for k in range(0,NPar):\n",
    "    K = np.matrix(Kmat[k-1,0:3]) \n",
    "    sys1 = ss(A-B*K,B*K[0,0],C,D)\n",
    "    t, yout, xout = forced_response(sys1, t, r)\n",
    "    ei = r - yout\n",
    "    eni = np.dot(ei,ei)\n",
    "    Par[k-1,0] = eni\n",
    "    u = -K*xout + K[0,0]*r\n",
    "    usum = np.zeros(Ft)\n",
    "    acum = 0.0\n",
    "    for i in range(1,Ft):\n",
    "        usum[i] = u[0,i] + acum\n",
    "        acum = usum[i]\n",
    "    usum = np.matrix(usum)\n",
    "    udot = usum*usum.T\n",
    "    Par[k-1,1] = udot[0,0]\n",
    "    "
   ]
  },
  {
   "cell_type": "markdown",
   "metadata": {},
   "source": [
    "Para evaluar el desempeño del lazo definimos los índices\n",
    "\n",
    "$$\n",
    "I_1(N)= \\left\\Vert y \\right\\Vert _{2}^{2}= \\sum_{k=1}^N y^2(k)\n",
    "$$\n",
    "\n",
    "$$\n",
    "I_2(N)= \\left\\Vert u \\right\\Vert _{2}^{2}= \\sum_{k=1}^N u^2(k)\n",
    "$$\n",
    "\n",
    "donde N es la cantidad de muestras consideradas"
   ]
  },
  {
   "cell_type": "code",
   "execution_count": 34,
   "metadata": {
    "collapsed": true
   },
   "outputs": [],
   "source": [
    "#Simulación Planta Real\n",
    "y = np.zeros(Ft)\n",
    "ysf = np.zeros(Ft) #sin falla\n",
    "u = np.zeros(Ft)\n",
    "usf = np.zeros(Ft)\n",
    "e = np.zeros(Ft)\n",
    "esf = np.zeros(Ft)\n",
    "Kp =  1 + 0.5*signal.square(2*np.pi*0.001*t)  #vector de falla\n",
    "Ci =  1 + 0.5*signal.square(2*np.pi*0.001*t)\n",
    "Cd =  1 + 0.5*signal.square(2*np.pi*0.001*t)\n",
    "\n",
    "Kpsf =  1 + 0.0*signal.square(2*np.pi*0.001*t)  #vector de falla\n",
    "Cisf =  1 + 0.0*signal.square(2*np.pi*0.001*t)  #vector de falla\n",
    "Cdsf =  1 + 0.0*signal.square(2*np.pi*0.001*t)  #vector de falla\n",
    "\n",
    "for i in range(2,Ft):\n",
    "    y[i] = B1*y[i-1] + B2*y[i-2] + A1*u[i-1]+ A2*u[i-2] + 0.1*random.uniform(-0.01,0.01)\n",
    "    e[i] = r[i] - y[i]\n",
    "    u[i] = u[i-1] + (Kp[i]+Ci[i]+Cd[i])*e[i]-(Kp[i]+2*Cd[i])*e[i-1]+Cd[i]*e[i-2]\n",
    "    \n",
    "for i in range(2,Ft):\n",
    "    ysf[i] = B1*ysf[i-1] + B2*ysf[i-2] + A1*usf[i-1]+ A2*u[i-2] + 0.1*random.uniform(-0.01,0.01)\n",
    "    esf[i] = r[i] - ysf[i]\n",
    "    usf[i] = usf[i-1] + (Kpsf[i]+Cisf[i]+Cdsf[i])*esf[i]-(Kpsf[i]+2*Cdsf[i])*esf[i-1]+Cdsf[i]*esf[i-2]\n"
   ]
  },
  {
   "cell_type": "code",
   "execution_count": 35,
   "metadata": {},
   "outputs": [
    {
     "name": "stdout",
     "output_type": "stream",
     "text": [
      "304.694 53536.8\n",
      "\n",
      "276.066 55823.8\n",
      "\n"
     ]
    },
    {
     "data": {
      "image/png": "[encoded data removed]",
      "text/plain": [
       "<matplotlib.figure.Figure at 0x29488f0>"
      ]
     },
     "metadata": {},
     "output_type": "display_data"
    }
   ],
   "source": [
    "# Grafica el frente y la posición de la planta, con falla y sin falla\n",
    "en = np.dot(e,e)\n",
    "un = np.dot(u,u)\n",
    "\n",
    "ensf = np.dot(esf,esf)\n",
    "unsf = np.dot(usf,usf)\n",
    "\n",
    "plt.plot(Par[:,1],Par[:,0],'xk')\n",
    "plt.plot(un,en,'or')\n",
    "plt.plot(unsf,ensf,'xr')\n",
    "\n",
    "print('%g %g\\n' % (en,un))\n",
    "print('%g %g\\n' % (ensf,unsf))"
   ]
  }
 ],
 "metadata": {
  "kernelspec": {
   "display_name": "Python 3",
   "language": "python",
   "name": "python3"
  },
  "language_info": {
   "codemirror_mode": {
    "name": "ipython",
    "version": 3
   },
   "file_extension": ".py",
   "mimetype": "text/x-python",
   "name": "python",
   "nbconvert_exporter": "python",
   "pygments_lexer": "ipython3",
   "version": "3.6.1"
  }
 },
 "nbformat": 4,
 "nbformat_minor": 2
}
